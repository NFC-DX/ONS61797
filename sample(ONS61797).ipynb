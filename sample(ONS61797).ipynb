{
 "cells": [
  {
   "cell_type": "code",
   "execution_count": 6,
   "metadata": {},
   "outputs": [],
   "source": [
    "import time\n",
    "from ONS61797 import ONS61797"
   ]
  },
  {
   "cell_type": "code",
   "execution_count": 7,
   "metadata": {},
   "outputs": [],
   "source": [
    "# 1. ONS61797オブジェクトを初期化\n",
    "# 1.1 USBを使用する場合\n",
    "port = \"COM3\"  # 適切なポート番号に置き換えてください\n",
    "instrument = ONS61797(port=port)  # シリアルポートを指定してデバイスに接続\n",
    "\n",
    "# 1.2 LANを使用する場合\n",
    "# ip_address = \"192.168.1.3\"  # 適切なIPアドレスに置き換えてください\n",
    "# instrument = ONS61797(\n",
    "#     ip_address=ip_address\n",
    "# )  # IPアドレスを指定してデバイスに接続"
   ]
  },
  {
   "cell_type": "code",
   "execution_count": 8,
   "metadata": {},
   "outputs": [
    {
     "name": "stdout",
     "output_type": "stream",
     "text": [
      "Device Information: NF Corporation,KIT62670,9876543,1.00\n",
      "IP Address: 192,168,1,3\n",
      "Default Gateway: 192,168,1,1\n",
      "Subnet Mask: 24\n"
     ]
    }
   ],
   "source": [
    "# 2. デバイス情報の取得\n",
    "# デバイスに固有のIDなどを取得し、接続確認を行う\n",
    "device_info = instrument.get_device_information()\n",
    "print(f\"Device Information: {device_info}\")\n",
    "ip_address = instrument.get_ip_address()\n",
    "print(f\"IP Address: {ip_address}\")\n",
    "default_gateway = instrument.get_default_gateway()\n",
    "print(f\"Default Gateway: {default_gateway}\")\n",
    "subnet_mask = instrument.get_subnet_mask()\n",
    "print(f\"Subnet Mask: {subnet_mask}\")"
   ]
  },
  {
   "cell_type": "code",
   "execution_count": 9,
   "metadata": {},
   "outputs": [
    {
     "name": "stdout",
     "output_type": "stream",
     "text": [
      "Channel 1 is now ON.\n",
      "Channel 1 Voltage Set to 5 V\n"
     ]
    }
   ],
   "source": [
    "# 3. 出力チャンネル1をオンにして電圧を設定\n",
    "# チャンネル1をオンにし、5.0Vを設定\n",
    "channel = 1\n",
    "voltage = 5\n",
    "instrument.on(channel=channel)\n",
    "print(f\"Channel {channel} is now ON.\")\n",
    "instrument.set_voltage(channel=channel, voltage=voltage)\n",
    "print(f\"Channel {channel} Voltage Set to {voltage} V\")"
   ]
  },
  {
   "cell_type": "code",
   "execution_count": 10,
   "metadata": {},
   "outputs": [
    {
     "name": "stdout",
     "output_type": "stream",
     "text": [
      "Current Voltage of Channel 1: 5.0 V\n"
     ]
    }
   ],
   "source": [
    "# 4. 電圧の確認\n",
    "# 現在のチャンネル1の電圧を確認\n",
    "current_voltage = instrument.get_voltage(channel=channel)\n",
    "print(f\"Current Voltage of Channel 1: {current_voltage} V\")"
   ]
  },
  {
   "cell_type": "code",
   "execution_count": 11,
   "metadata": {},
   "outputs": [
    {
     "name": "stdout",
     "output_type": "stream",
     "text": [
      "Channel 1 is currently ON.\n"
     ]
    }
   ],
   "source": [
    "# 5. 出力状態の確認\n",
    "# チャンネル1がオンかオフかを確認\n",
    "output_state = instrument.get_output_state(channel=channel)\n",
    "state_str = \"ON\" if output_state == 1 else \"OFF\"\n",
    "print(f\"Channel {channel} is currently {state_str}.\")"
   ]
  },
  {
   "cell_type": "code",
   "execution_count": 12,
   "metadata": {},
   "outputs": [
    {
     "name": "stdout",
     "output_type": "stream",
     "text": [
      "Channel 1 is now OFF.\n"
     ]
    }
   ],
   "source": [
    "# 6. チャンネル1をオフにする\n",
    "time.sleep(5)\n",
    "instrument.off(channel=channel)\n",
    "print(f\"Channel {channel} is now OFF.\")"
   ]
  },
  {
   "cell_type": "code",
   "execution_count": 13,
   "metadata": {},
   "outputs": [
    {
     "name": "stdout",
     "output_type": "stream",
     "text": [
      "Connection closed.\n"
     ]
    }
   ],
   "source": [
    "# 7. 接続を閉じる\n",
    "# プログラム終了前に必ずシリアル接続を閉じる\n",
    "instrument.close()\n",
    "print(\"Connection closed.\")"
   ]
  }
 ],
 "metadata": {
  "kernelspec": {
   "display_name": "base",
   "language": "python",
   "name": "python3"
  },
  "language_info": {
   "codemirror_mode": {
    "name": "ipython",
    "version": 3
   },
   "file_extension": ".py",
   "mimetype": "text/x-python",
   "name": "python",
   "nbconvert_exporter": "python",
   "pygments_lexer": "ipython3",
   "version": "3.12.4"
  }
 },
 "nbformat": 4,
 "nbformat_minor": 2
}
